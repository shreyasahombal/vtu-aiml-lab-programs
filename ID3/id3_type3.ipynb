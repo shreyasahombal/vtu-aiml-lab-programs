{
 "cells": [
  {
   "cell_type": "markdown",
   "metadata": {},
   "source": [
    "* d_mftv - Dataset's Most Frequent Target Value\n",
    "* utv - Data's Unique Target Value\n",
    "* ig - Information Gains"
   ]
  },
  {
   "cell_type": "code",
   "execution_count": 312,
   "metadata": {},
   "outputs": [],
   "source": [
    "\n",
    "import numpy as np\n",
    "import pandas as pd\n",
    "from scipy.stats import entropy\n",
    "from pprint import pprint\n",
    "\n",
    "dataset = pd.read_csv(\"id3_dataset.csv\").iloc[:]\n",
    "features = dataset.columns[:-1].tolist()\n",
    "target = 'Target'"
   ]
  },
  {
   "cell_type": "code",
   "execution_count": 313,
   "metadata": {},
   "outputs": [],
   "source": [
    "def get_weighted_entropy(data, feature):\n",
    "    uf = data[target].value_counts(normalize = True)\n",
    "    weighted_entropy = 0\n",
    "    for i in range(len(uf)):\n",
    "        table = data.where(data[feature] == uf.index[i]).dropna()\n",
    "        table_entropy = entropy(table[target].value_counts())\n",
    "\n",
    "        weighted_entropy += uf.values[i] * table_entropy\n",
    "    return weighted_entropy"
   ]
  },
  {
   "cell_type": "code",
   "execution_count": 314,
   "metadata": {},
   "outputs": [],
   "source": [
    "def ID3(data, features, most_freq_target_value):\n",
    "    \n",
    "    utv = data[target].value_counts()  \n",
    "    \n",
    "    if len(utv) <= 1: return utv.index[0]\n",
    "    elif len(data) == 0: return d_mftv\n",
    "    elif len(features) == 0: return most_freq_target_value\n",
    "    \n",
    "    else:\n",
    "\n",
    "        #calculate information gain\n",
    "        ig = []\n",
    "        for feature in features:\n",
    "            total_entropy = entropy(data[feature].value_counts())\n",
    "            weighted_entropy = get_weighted_entropy(data, feature)\n",
    "            ig.append(total_entropy - weighted_entropy)\n",
    "        \n",
    "        #create tree\n",
    "        best_feature = features[np.argmax(ig)]\n",
    "        tree = {best_feature:{}}\n",
    "        features.remove(best_feature)\n",
    "        \n",
    "        #create sub_features_table_and_sub_tree\n",
    "        sub_features = np.unique(data[best_feature])\n",
    "        for sf in sub_features:\n",
    "            sub_table = data.where(data[best_feature] == sf).dropna()\n",
    "            sub_tree = ID3(sub_table, features, utv.index[0])\n",
    "            tree[best_feature][sf] = sub_tree\n",
    "            \n",
    "        return tree"
   ]
  },
  {
   "cell_type": "code",
   "execution_count": 315,
   "metadata": {},
   "outputs": [
    {
     "name": "stdout",
     "output_type": "stream",
     "text": [
      "{'Outlook': {'overcast': 'yes',\n",
      "             'rain': {'Temperature': {'cool': {'Wind': {'strong': 'no',\n",
      "                                                        'weak': 'yes'}},\n",
      "                                      'mild': {'Humidity': {'high': 'yes',\n",
      "                                                            'normal': 'yes'}}}},\n",
      "             'sunny': 'yes'}}\n"
     ]
    }
   ],
   "source": [
    "\n",
    "d_mftv = dataset[target].value_counts().index[0]\n",
    "pprint(ID3(dataset, features, d_mftv))"
   ]
  }
 ],
 "metadata": {
  "interpreter": {
   "hash": "7b4b4feff2f24a0f0a34464dbe537a36fda679851528fb8735cb41fa49dffb2d"
  },
  "kernelspec": {
   "display_name": "Python 3 (ipykernel)",
   "language": "python",
   "name": "python3"
  },
  "language_info": {
   "codemirror_mode": {
    "name": "ipython",
    "version": 3
   },
   "file_extension": ".py",
   "mimetype": "text/x-python",
   "name": "python",
   "nbconvert_exporter": "python",
   "pygments_lexer": "ipython3",
   "version": "3.9.7"
  }
 },
 "nbformat": 4,
 "nbformat_minor": 2
}
