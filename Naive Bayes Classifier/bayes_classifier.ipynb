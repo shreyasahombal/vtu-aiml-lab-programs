{
 "cells": [
  {
   "cell_type": "code",
   "execution_count": 16,
   "id": "8fe757d9",
   "metadata": {},
   "outputs": [
    {
     "name": "stdout",
     "output_type": "stream",
     "text": [
      "    0  1  2  3   4\n",
      "0   1  1  1  1   5\n",
      "1   1  1  1  2   5\n",
      "2   2  1  1  2  10\n",
      "3   3  2  1  1  10\n",
      "4   3  3  2  1  10\n",
      "5   3  3  2  2   5\n",
      "6   2  3  2  2  10\n",
      "7   1  2  1  1   5\n",
      "8   1  3  2  1  10\n",
      "9   3  2  2  2  10\n",
      "10  1  2  2  2  10\n",
      "11  2  2  1  2  10\n",
      "12  2  1  2  1  10\n",
      "13  3  2  1  2   5\n",
      "14  1  2  1  2  10\n",
      "15  1  2  1  2   5\n"
     ]
    }
   ],
   "source": [
    "import math\n",
    "import statistics as st\n",
    "from sklearn.model_selection import train_test_split\n",
    "import pandas as pd\n",
    "\n",
    "dataset = pd.read_csv(\"dataset.csv\", header=None)\n",
    "print(dataset)"
   ]
  },
  {
   "cell_type": "code",
   "execution_count": 4,
   "id": "3828e802",
   "metadata": {},
   "outputs": [
    {
     "name": "stdout",
     "output_type": "stream",
     "text": [
      "[[1, 1, 1, 1], [1, 1, 1, 2], [2, 1, 1, 2], [3, 2, 1, 1], [3, 3, 2, 1], [3, 3, 2, 2], [2, 3, 2, 2], [1, 2, 1, 1], [1, 3, 2, 1], [3, 2, 2, 2], [1, 2, 2, 2], [2, 2, 1, 2], [2, 1, 2, 1], [3, 2, 1, 2], [1, 2, 1, 2], [1, 2, 1, 2]]\n"
     ]
    }
   ],
   "source": [
    "X = dataset[[0, 1, 2, 3]].values.tolist()\n",
    "print(X)"
   ]
  },
  {
   "cell_type": "code",
   "execution_count": 5,
   "id": "7f0148c6",
   "metadata": {},
   "outputs": [
    {
     "name": "stdout",
     "output_type": "stream",
     "text": [
      "[5, 5, 10, 10, 10, 5, 10, 5, 10, 10, 10, 10, 10, 5, 10, 5]\n"
     ]
    }
   ],
   "source": [
    "Y = dataset[4].values.tolist()\n",
    "print(Y)"
   ]
  },
  {
   "cell_type": "code",
   "execution_count": 14,
   "id": "2058c016",
   "metadata": {},
   "outputs": [
    {
     "name": "stdout",
     "output_type": "stream",
     "text": [
      "[[1, 2, 1, 2], [1, 1, 1, 2], [3, 2, 2, 2], [2, 2, 1, 2], [2, 3, 2, 2], [1, 3, 2, 1], [1, 2, 1, 2], [1, 2, 1, 1], [3, 3, 2, 1], [1, 1, 1, 1], [2, 1, 1, 2], [3, 2, 1, 2], [3, 3, 2, 2], [2, 1, 2, 1]]\n"
     ]
    }
   ],
   "source": [
    "x_train, x_test, y_train, y_test = train_test_split(X, Y, test_size = 0.10)\n",
    "print(x_train)"
   ]
  },
  {
   "cell_type": "code",
   "execution_count": 10,
   "id": "9c2f3220",
   "metadata": {},
   "outputs": [
    {
     "name": "stdout",
     "output_type": "stream",
     "text": [
      "Total Available Instances:  16\n",
      "Total Attributes:  4\n",
      "Training Examples = 14\n",
      "Testing Examples = 2\n"
     ]
    }
   ],
   "source": [
    "print(\"Total Available Instances: \", len(X))\n",
    "print(\"Total Attributes: \", len(X[0]))\n",
    "print(\"Training Examples = {0}\\nTesting Examples = {1}\".format(len(x_train), len(x_test)))"
   ]
  },
  {
   "cell_type": "code",
   "execution_count": 12,
   "id": "d99a3d26",
   "metadata": {},
   "outputs": [
    {
     "name": "stdout",
     "output_type": "stream",
     "text": [
      "{10: [(2, 0.816496580927726), (2.1, 0.7378647873726218), (1.6, 0.5163977794943222), (1.6, 0.5163977794943222)], 5: [(2, 1.1547005383792515), (2, 0.816496580927726), (1.25, 0.5), (1.75, 0.5)]}\n"
     ]
    }
   ],
   "source": [
    "separated = {}\n",
    "for i in range(len(x_train)):\n",
    "    if y_train[i] not in separated:\n",
    "        separated[y_train[i]] = []\n",
    "    separated[y_train[i]].append(x_train[i])\n",
    "\n",
    "summary = {}\n",
    "for target_value, x_instances in separated.items():\n",
    "    summary[target_value] = [ (st.mean(attribute), st.stdev(attribute)) for attribute in zip(*x_instances) ]\n",
    "\n",
    "print(summary)"
   ]
  },
  {
   "cell_type": "code",
   "execution_count": 13,
   "id": "50ffe3ba",
   "metadata": {},
   "outputs": [
    {
     "name": "stdout",
     "output_type": "stream",
     "text": [
      "Accuracy is:  100.0\n"
     ]
    }
   ],
   "source": [
    "correct = 0\n",
    "for instance in range(len(x_test)):\n",
    "    best_label = None\n",
    "    best_probability  = -1\n",
    "    probabilities = {}\n",
    "    \n",
    "    for target_value, mean_std in summary.items():\n",
    "        probabilities[target_value] = 1\n",
    "        \n",
    "        for j in range(len(mean_std)):\n",
    "            mean, std_dev = mean_std[j]\n",
    "            x = x_test[instance][j]\n",
    "            \n",
    "            # calculating probability using Normal Distribution Formula\n",
    "            exponent = math.exp(-(math.pow(x-mean,2)/float(2*math.pow(std_dev,2))))\n",
    "            result = (1/(std_dev * math.sqrt(2*math.pi))) * exponent\n",
    "            \n",
    "            probabilities[target_value] *= result\n",
    "        \n",
    "        if best_label is None or probabilities[target_value] > best_probability:\n",
    "            best_label = target_value\n",
    "            best_probability = probabilities[target_value]\n",
    "    \n",
    "    if best_label == y_test[instance]:\n",
    "        correct = correct + 1\n",
    "    \n",
    "accuracy = (correct/float(len(x_test))) * 100\n",
    "print(\"Accuracy is: \", accuracy)"
   ]
  },
  {
   "cell_type": "code",
   "execution_count": null,
   "id": "3482e6fa",
   "metadata": {},
   "outputs": [],
   "source": []
  }
 ],
 "metadata": {
  "kernelspec": {
   "display_name": "Python 3 (ipykernel)",
   "language": "python",
   "name": "python3"
  },
  "language_info": {
   "codemirror_mode": {
    "name": "ipython",
    "version": 3
   },
   "file_extension": ".py",
   "mimetype": "text/x-python",
   "name": "python",
   "nbconvert_exporter": "python",
   "pygments_lexer": "ipython3",
   "version": "3.9.7"
  }
 },
 "nbformat": 4,
 "nbformat_minor": 5
}
