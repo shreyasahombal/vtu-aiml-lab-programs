{
 "cells": [
  {
   "cell_type": "markdown",
   "metadata": {},
   "source": [
    "* d_utv - Dataset's Unique Value\n",
    "* d_utvf - Dataset's Unique Value Frequencies\n",
    "* d_mftv - Dataset's Most Frequent Target Value\n",
    "\n",
    "\n",
    "Inside ID3 Function:\n",
    "* mftv - Most Frequent Target Value of Parent's Data\n",
    "* utv - Data's Unique Target Value\n",
    "* utvf - Data's Unique Target Value Frequencies\n",
    "* ig - Information Gains\n",
    "* sf - sub-feature\n",
    "\n",
    "Inside get_weighted_entropy function:\n",
    "* uf - Unique Features\n",
    "* uff - Unique Feature's Frequencies"
   ]
  },
  {
   "cell_type": "code",
   "execution_count": 290,
   "metadata": {},
   "outputs": [],
   "source": [
    "\n",
    "import numpy as np\n",
    "import pandas as pd\n",
    "from pprint import pprint\n",
    "\n",
    "dataset = pd.read_csv(\"data.csv\").iloc[:]\n",
    "features = dataset.columns[:-1].tolist()\n",
    "target = 'Target'\n",
    "d_mftv = None"
   ]
  },
  {
   "cell_type": "code",
   "execution_count": 291,
   "metadata": {},
   "outputs": [],
   "source": [
    "def main():\n",
    "    global d_mftv\n",
    "    d_utv, d_utvf, d_mftv = get_uniqueValues_and_frequencies_and_mostFrequentUniqueValue(dataset[target])\n",
    "\n",
    "    pprint(ID3(dataset, features, d_mftv))"
   ]
  },
  {
   "cell_type": "code",
   "execution_count": 292,
   "metadata": {},
   "outputs": [],
   "source": [
    "def ID3(data, features, most_freq_target_value):\n",
    "    \n",
    "    utv, utv_f, mftv = get_uniqueValues_and_frequencies_and_mostFrequentUniqueValue(data[target])\n",
    "    \n",
    "    if len(utv) <= 1: return utv[0]\n",
    "    elif len(data) == 0: return d_mftv\n",
    "    elif len(features) == 0: return most_freq_target_value\n",
    "    \n",
    "    else:\n",
    "\n",
    "        #calculate information gain\n",
    "        ig = []\n",
    "        for feature in features:\n",
    "            total_entropy = entropy(data[target])\n",
    "            weighted_entropy = get_weighted_entropy(data, feature)\n",
    "            ig.append(total_entropy - weighted_entropy)\n",
    "        \n",
    "        #create tree\n",
    "        best_feature = features[np.argmax(ig)]\n",
    "        tree = {best_feature:{}}\n",
    "        features.remove(best_feature)\n",
    "        \n",
    "        #create sub_features_table_and_sub_tree\n",
    "        sub_features = np.unique(data[best_feature])\n",
    "        for sf in sub_features:\n",
    "            sub_table = data.where(data[best_feature] == sf).dropna()\n",
    "            sub_tree = ID3(sub_table, features, mftv)\n",
    "            tree[best_feature][sf] = sub_tree\n",
    "            \n",
    "        return tree"
   ]
  },
  {
   "cell_type": "code",
   "execution_count": 293,
   "metadata": {},
   "outputs": [],
   "source": [
    "def get_uniqueValues_and_frequencies_and_mostFrequentUniqueValue(column):\n",
    "    uv, uvf = np.unique(column, return_counts=True)\n",
    "    mfv = uv[np.argmax(uvf)]\n",
    "    return [uv, uvf, mfv]"
   ]
  },
  {
   "cell_type": "code",
   "execution_count": 294,
   "metadata": {},
   "outputs": [],
   "source": [
    "def entropy(column):\n",
    "    values, frequencies = np.unique(column, return_counts=True)\n",
    "    entropy = 0\n",
    "    for i in range(len(values)):\n",
    "        ratio = frequencies[i] / np.sum(frequencies)\n",
    "        entropy += (-ratio)*np.log2(ratio)\n",
    "    return entropy"
   ]
  },
  {
   "cell_type": "code",
   "execution_count": 295,
   "metadata": {},
   "outputs": [],
   "source": [
    "def get_weighted_entropy(data, feature):\n",
    "    uf, uff = np.unique(data[feature], return_counts=True)\n",
    "    weighted_entropy = 0\n",
    "    for i, frequency in enumerate(uff):\n",
    "        ratio = frequency/np.sum(uff)\n",
    "        table = data.where(data[feature] == uf[i]).dropna()\n",
    "        table_entropy = entropy(table[target])\n",
    "        weighted_entropy += ratio * table_entropy\n",
    "    return weighted_entropy"
   ]
  },
  {
   "cell_type": "code",
   "execution_count": 296,
   "metadata": {},
   "outputs": [
    {
     "name": "stdout",
     "output_type": "stream",
     "text": [
      "{'Outlook': {'overcast': 'yes',\n",
      "             'rain': {'Wind': {'strong': 'no', 'weak': 'yes'}},\n",
      "             'sunny': {'Humidity': {'high': 'no', 'normal': 'yes'}}}}\n"
     ]
    }
   ],
   "source": [
    "if __name__ == '__main__':\n",
    "    main()"
   ]
  }
 ],
 "metadata": {
  "interpreter": {
   "hash": "7b4b4feff2f24a0f0a34464dbe537a36fda679851528fb8735cb41fa49dffb2d"
  },
  "kernelspec": {
   "display_name": "Python 3 (ipykernel)",
   "language": "python",
   "name": "python3"
  },
  "language_info": {
   "codemirror_mode": {
    "name": "ipython",
    "version": 3
   },
   "file_extension": ".py",
   "mimetype": "text/x-python",
   "name": "python",
   "nbconvert_exporter": "python",
   "pygments_lexer": "ipython3",
   "version": "3.9.7"
  }
 },
 "nbformat": 4,
 "nbformat_minor": 2
}
